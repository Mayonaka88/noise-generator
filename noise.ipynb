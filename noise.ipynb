{
 "cells": [
  {
   "cell_type": "code",
   "execution_count": 64,
   "metadata": {},
   "outputs": [],
   "source": [
    "import noise\n",
    "import numpy as np\n",
    "from PIL import Image, ImageEnhance\n",
    "\n",
    "\n",
    "for x in range(15000):\n",
    "    shape = (512,512)\n",
    "    scale = .5\n",
    "    octaves = 6\n",
    "    persistence = 0.5\n",
    "    lacunarity = 2.0\n",
    "    seed = x\n",
    "    world = np.zeros(shape)\n",
    "    # make coordinate grid on [0,1]^2\n",
    "    x_idx = np.linspace(0, 1, shape[0])\n",
    "    y_idx = np.linspace(0, 1, shape[1])\n",
    "    world_x, world_y = np.meshgrid(x_idx, y_idx)\n",
    "    # apply perlin noise, instead of np.vectorize, consider using itertools.starmap()\n",
    "    world = np.vectorize(noise.snoise2)(world_x/scale,\n",
    "                            world_y/scale,\n",
    "                            octaves=octaves,\n",
    "                            persistence=persistence,\n",
    "                            lacunarity=lacunarity,\n",
    "                            repeatx=512,\n",
    "                            repeaty=512,\n",
    "                            base=seed)\n",
    "    # here was the error: one needs to normalize the image first. Could be done without copying the array, though\n",
    "    hieghtmap = np.round((world + .555) * 200).astype(np.uint8) # <- Normalize world first\n",
    "    img = Image.fromarray(hieghtmap, mode='L')\n",
    "    img.save(str(x)+\".png\")\n",
    "    \n",
    "    img2 = Image.open(str(x)+\".png\")\n",
    "    img2 = img2.convert('RGBA')\n",
    "\n",
    "    data = np.array(img2)   # \"data\" is a height x width x 4 numpy array\n",
    "    red, green, blue, alpha = data.T # Temporarily unpack the bands for readability\n",
    "\n",
    "    # Replace white with red... (leaves alpha values alone...)\n",
    "    for whiteAreaRange in range(236,256):\n",
    "        white_areas = (red == whiteAreaRange) & (blue == whiteAreaRange) & (green == whiteAreaRange)\n",
    "        data[..., :-1][white_areas.T] = (0, 0, 0) # Transpose back needed\n",
    "    \n",
    "    out_image2 = Image.fromarray(data)\n",
    "    \n",
    "    enhancer = ImageEnhance.Contrast(out_image2)\n",
    "    im_output = enhancer.enhance(1.5)\n",
    "    out_image2.save(str(x)+\".png\")\n",
    "\n"
   ]
  }
 ],
 "metadata": {
  "kernelspec": {
   "display_name": "Python 3",
   "language": "python",
   "name": "python3"
  },
  "language_info": {
   "codemirror_mode": {
    "name": "ipython",
    "version": 3
   },
   "file_extension": ".py",
   "mimetype": "text/x-python",
   "name": "python",
   "nbconvert_exporter": "python",
   "pygments_lexer": "ipython3",
   "version": "3.10.4"
  },
  "orig_nbformat": 4,
  "vscode": {
   "interpreter": {
    "hash": "be4d790d84ac43a242e708596ecc1cdd41e227f257f1454e7336703a902f8851"
   }
  }
 },
 "nbformat": 4,
 "nbformat_minor": 2
}
